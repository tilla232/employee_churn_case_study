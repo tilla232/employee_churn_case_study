{
 "cells": [
  {
   "cell_type": "markdown",
   "metadata": {},
   "source": [
    "# Logistic Regression\n",
    "============================="
   ]
  },
  {
   "cell_type": "markdown",
   "metadata": {},
   "source": [
    "## Imports"
   ]
  },
  {
   "cell_type": "code",
   "execution_count": 13,
   "metadata": {
    "collapsed": true
   },
   "outputs": [],
   "source": [
    "# dataframe, linear algebra\n",
    "import pandas as pd\n",
    "import numpy as np\n",
    "\n",
    "# object serialization\n",
    "import pickle as p\n",
    "\n",
    "# visualization\n",
    "%matplotlib inline\n",
    "import matplotlib.pyplot as plt\n",
    "import seaborn as sns\n",
    "\n",
    "# Regression\n",
    "from sklearn.linear_model import LogisticRegression\n",
    "\n",
    "# model validation, class balancing\n",
    "from sklearn.model_selection import train_test_split\n",
    "from imblearn.over_sampling import SMOTE \n",
    "from sklearn.metrics import f1_score\n",
    "\n",
    "# Simple functions used to graph ROC plots\n",
    "from roc import roc_curve,plot_roc"
   ]
  },
  {
   "cell_type": "code",
   "execution_count": 14,
   "metadata": {},
   "outputs": [
    {
     "data": {
      "text/plain": [
       "Index(['satisfaction_level', 'last_evaluation', 'number_project',\n",
       "       'average_montly_hours', 'time_spend_company', 'Work_accident', 'left',\n",
       "       'promotion_last_5years', 'sales', 'salary'],\n",
       "      dtype='object')"
      ]
     },
     "execution_count": 14,
     "metadata": {},
     "output_type": "execute_result"
    }
   ],
   "source": [
    "df = pd.read_csv('../data/HR_comma_sep.csv')\n",
    "df.columns"
   ]
  },
  {
   "cell_type": "markdown",
   "metadata": {},
   "source": [
    "### Grabbing Important Features"
   ]
  },
  {
   "cell_type": "code",
   "execution_count": 15,
   "metadata": {},
   "outputs": [
    {
     "data": {
      "text/plain": [
       "['satisfaction_level',\n",
       " 'last_evaluation',\n",
       " 'number_project',\n",
       " 'average_montly_hours',\n",
       " 'time_spend_company',\n",
       " 'left']"
      ]
     },
     "execution_count": 15,
     "metadata": {},
     "output_type": "execute_result"
    }
   ],
   "source": [
    "with open('../data/f.pkl','rb') as f:\n",
    "    feat = p.load(f)\n",
    "fs = df[feat]\n",
    "list(fs.columns)"
   ]
  },
  {
   "cell_type": "markdown",
   "metadata": {},
   "source": [
    "### Creating Training/Testing Sets, and Accounting for Class Imbalance:"
   ]
  },
  {
   "cell_type": "code",
   "execution_count": 16,
   "metadata": {
    "collapsed": true
   },
   "outputs": [],
   "source": [
    "y = fs.pop('left')\n",
    "X = fs\n",
    "\n",
    "X_train,X_test,y_train,y_test = train_test_split(X,y,random_state=23)\n",
    "X_train,y_train = SMOTE().fit_sample(X_train,y_train)"
   ]
  },
  {
   "cell_type": "markdown",
   "metadata": {},
   "source": [
    "# Getting Started: Logistic Regression\n",
    "Logistic models are nice because they are computationally cheap, and they provide easy-to-interpret coefficients for each input. "
   ]
  },
  {
   "cell_type": "code",
   "execution_count": 17,
   "metadata": {},
   "outputs": [
    {
     "data": {
      "text/plain": [
       "LogisticRegression(C=1.0, class_weight=None, dual=False, fit_intercept=True,\n",
       "          intercept_scaling=1, max_iter=100, multi_class='ovr', n_jobs=1,\n",
       "          penalty='l2', random_state=23, solver='liblinear', tol=0.0001,\n",
       "          verbose=0, warm_start=False)"
      ]
     },
     "execution_count": 17,
     "metadata": {},
     "output_type": "execute_result"
    }
   ],
   "source": [
    "log = LogisticRegression(random_state=23)\n",
    "log.fit(X_train,y_train)"
   ]
  },
  {
   "cell_type": "markdown",
   "metadata": {},
   "source": [
    "### Examining the Coefficients\n",
    "First we simply observe the coefficients for each feature:"
   ]
  },
  {
   "cell_type": "code",
   "execution_count": 18,
   "metadata": {},
   "outputs": [
    {
     "name": "stdout",
     "output_type": "stream",
     "text": [
      "P(Employee Left) = 1 / e^(\n",
      "-4.394*satisfaction_level + \n",
      "1.462*last_evaluation + \n",
      "-0.42*number_project + \n",
      "0.005*average_montly_hours + \n",
      "0.425*time_spend_company + \n",
      "0.516)\n"
     ]
    }
   ],
   "source": [
    "print('P(Employee Left) = 1 / e^(')\n",
    "for (c,f) in zip(list(log.coef_[0]),list(fs.columns)):\n",
    "    print('{}*{} + '.format(round(c,3),f))\n",
    "print('{})'.format(round(log.intercept_[0],3)))"
   ]
  },
  {
   "cell_type": "markdown",
   "metadata": {},
   "source": [
    "It looks a little messy at first, but remember: a primary appeal for our starting with logistic regression is the ease with which we can interpret these coefficients.  Take average monthly hours, for example.\n",
    "\n",
    "Average monthly hours has a coefficient of 0.005, which means we expect a one-unit increase in satisfaction level (all other variables held constant) to correspond to an increase in the odds the employee left of e^0.005 = 1.005 -- this translates to a .5% increase.  Let's calculate this figure for all of our features:"
   ]
  },
  {
   "cell_type": "code",
   "execution_count": 19,
   "metadata": {},
   "outputs": [
    {
     "name": "stdout",
     "output_type": "stream",
     "text": [
      "A one unit increase in satisfaction_level corresponds to a 0.012 increase to the odds the employee left\n",
      "A one unit increase in last_evaluation corresponds to a 4.316 increase to the odds the employee left\n",
      "A one unit increase in number_project corresponds to a 0.657 increase to the odds the employee left\n",
      "A one unit increase in average_montly_hours corresponds to a 1.005 increase to the odds the employee left\n",
      "A one unit increase in time_spend_company corresponds to a 1.529 increase to the odds the employee left\n"
     ]
    }
   ],
   "source": [
    "for (c,f) in zip(list(log.coef_[0]),list(fs.columns)):\n",
    "    o = np.exp(c)\n",
    "    if o > 0:\n",
    "        print('A one unit increase in {} corresponds to a {} increase to the odds the employee left'.format(f,round(o,3)))\n",
    "    if o < 0:\n",
    "        print('A one unit increase in {} corresponds to a {} decrease to the odds the employee left'.format(f,round(o,3)))"
   ]
  },
  {
   "cell_type": "markdown",
   "metadata": {},
   "source": [
    "### Plotting a ROC Curve "
   ]
  },
  {
   "cell_type": "code",
   "execution_count": 20,
   "metadata": {
    "collapsed": true
   },
   "outputs": [],
   "source": [
    "from roc import roc_curve,plot_roc"
   ]
  },
  {
   "cell_type": "code",
   "execution_count": 21,
   "metadata": {},
   "outputs": [
    {
     "data": {
      "image/png": "[encoded data removed]",
      "text/plain": [
       "<matplotlib.figure.Figure at 0x10b2494a8>"
      ]
     },
     "metadata": {},
     "output_type": "display_data"
    }
   ],
   "source": [
    "prob = log.predict_proba(X_test)[:,1]\n",
    "lab = y_test\n",
    "\n",
    "tpr,fpr,thresholds = roc_curve(prob,lab)\n",
    "\n",
    "x_line = np.linspace(0,1,20)\n",
    "y_line = np.linspace(0,1,20)\n",
    "\n",
    "plot_roc(fpr,tpr)"
   ]
  },
  {
   "cell_type": "markdown",
   "metadata": {
    "collapsed": true
   },
   "source": [
    "### For an out-of-box classifier, that's not too bad!\n",
    "* We have decent area under the curve, but it's clear our model has a problem with false positives (ie; classifying employees as having left when they didn't, in fact, leave)\n",
    "* We can clearly do better, but this is great as a sanity check in reassuring us that our data does contain a signal."
   ]
  },
  {
   "cell_type": "markdown",
   "metadata": {},
   "source": [
    "### Testing the Model"
   ]
  },
  {
   "cell_type": "code",
   "execution_count": 22,
   "metadata": {},
   "outputs": [
    {
     "name": "stdout",
     "output_type": "stream",
     "text": [
      "Simple Accuracy Score \n",
      "Train: \n",
      "0.749189627229\n",
      "Test: \n",
      "0.7485333333333334\n",
      "\n",
      "F1 Score \n",
      "Train: \n",
      "0.753540754223\n",
      "Test: \n",
      "0.6161986161986162\n"
     ]
    }
   ],
   "source": [
    "print('Simple Accuracy Score \\nTrain: ')\n",
    "print(log.score(X_train,y_train))\n",
    "print('Test: \\n{}\\n'.format(log.score(X_test,y_test)))\n",
    "print('F1 Score \\nTrain: ')\n",
    "print(f1_score(y_train,log.predict(X_train)))\n",
    "print('Test: \\n{}'.format(f1_score(y_test,log.predict(X_test))))"
   ]
  },
  {
   "cell_type": "markdown",
   "metadata": {
    "collapsed": true
   },
   "source": [
    "### The Upshot:  \n",
    "When we simply use accuracy - percentage of correct classifications - as our testing metric, our model actually performs rather admirably.  The issue, to reiterate what we conluded from our ROC curve, is when we use F1 Score, a metric which takes into account both sensitivity *and* recall, we see a drastic reduction in our model's performance.  This is a not entirely unexpected problem to encounter in logistic regression; the model classifies a record based on whether it lies above or below a certain threshold, and so lacks a little nuance that we may find in more advanced, machine learning-based methods.  We'll explore some of those in the [Forest Models](/notebooks/src/forestModels.ipynb) notebook."
   ]
  },
  {
   "cell_type": "code",
   "execution_count": null,
   "metadata": {
    "collapsed": true
   },
   "outputs": [],
   "source": []
  }
 ],
 "metadata": {
  "anaconda-cloud": {},
  "kernelspec": {
   "display_name": "Python [conda env:py3]",
   "language": "python",
   "name": "conda-env-py3-py"
  },
  "language_info": {
   "codemirror_mode": {
    "name": "ipython",
    "version": 3
   },
   "file_extension": ".py",
   "mimetype": "text/x-python",
   "name": "python",
   "nbconvert_exporter": "python",
   "pygments_lexer": "ipython3",
   "version": "3.6.1"
  }
 },
 "nbformat": 4,
 "nbformat_minor": 2
}
